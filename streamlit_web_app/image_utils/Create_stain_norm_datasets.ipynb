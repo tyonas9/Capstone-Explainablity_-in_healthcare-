{
 "cells": [
  {
   "cell_type": "code",
   "execution_count": 4,
   "id": "39fe4443",
   "metadata": {},
   "outputs": [],
   "source": [
    "import numpy as np\n",
    "import cv2\n",
    "import os\n",
    "\n",
    "import sys\n",
    "sys.path.append('../')\n",
    "\n",
    "import numpy as np\n",
    "from PIL import Image\n",
    "\n",
    "import matplotlib\n",
    "import matplotlib.pyplot as plt\n",
    "\n",
    "%matplotlib inline\n",
    "\n",
    "from stain_norm_macenko import normalizeStaining_Macenko"
   ]
  },
  {
   "cell_type": "markdown",
   "id": "b894bdb8",
   "metadata": {},
   "source": [
    "### Specify original and new image directories"
   ]
  },
  {
   "cell_type": "code",
   "execution_count": 30,
   "id": "ccdc7c4a",
   "metadata": {},
   "outputs": [],
   "source": [
    "original_image_dir = '../data_mitotic_phase_classification/'"
   ]
  },
  {
   "cell_type": "code",
   "execution_count": 164,
   "id": "369ff00c",
   "metadata": {},
   "outputs": [],
   "source": [
    "from stat import *\n",
    "\n",
    "def walk_dir(top_dir, sub_dir, new_data_folder, stain_mode):\n",
    "    for x in os.listdir(top_dir):\n",
    "        #top = os.path.abspath(original_image_dir)\n",
    "        pathname = os.path.join(top_dir, x)\n",
    "        #print(sub_dir, top_dir)\n",
    "        mode = os.stat(pathname)[ST_MODE]\n",
    "        if S_ISDIR(mode):\n",
    "            \n",
    "            sub_dir.append(x)\n",
    "            #rint(x, sub_dir, pathname, os.path.isdir(pathname))\n",
    "            new_dir = '/'.join(sub_dir)\n",
    "            new_path = os.path.join(new_data_folder, new_dir)\n",
    "            \n",
    "            if not os.path.exists(new_path):\n",
    "                print(new_path)\n",
    "                #print(sub_dir)\n",
    "                os.mkdir(new_path)\n",
    "            walk_dir(pathname, sub_dir, new_data_folder, stain_mode)\n",
    "            sub_dir.remove(x)\n",
    "        else:\n",
    "            #find the file type\n",
    "            file_type = x.split('.')[-1]\n",
    "            if file_type in ['png', 'jpg', 'jpeg']:\n",
    "                #print(pathname)\n",
    "                new_dir = '/'.join(sub_dir)\n",
    "                new_path = os.path.join(new_data_folder, new_dir)\n",
    "                img_save_path = os.path.join(new_path, x)\n",
    "                \n",
    "                img = np.array(Image.open(pathname))\n",
    "\n",
    "                Inorm, H, E = normalizeStaining_Macenko(img = img,\n",
    "                      saveFile = None,\n",
    "                      Io = 240,\n",
    "                      alpha = 1.0,\n",
    "                      beta = 0.15)\n",
    "                if stain_mode == 'H':\n",
    "                    im = Image.fromarray(H)\n",
    "                elif stain_mode == 'Inorm':\n",
    "                    im = Image.fromarray(Inorm)\n",
    "                else:\n",
    "                    print(f\"not a valid stain normalization channel\")\n",
    "                #print(pathname)\n",
    "                #print(img_save_path, x)\n",
    "                im.save(img_save_path)\n"
   ]
  },
  {
   "cell_type": "code",
   "execution_count": 162,
   "id": "1f274342",
   "metadata": {},
   "outputs": [
    {
     "data": {
      "text/plain": [
       "'/media/bony/Ganga_HDD_3TB/Ganges_Backup/Courses/FourthBrain_Cohort_8_June22_2022/capstone/data_mitotic_phase_classification'"
      ]
     },
     "execution_count": 162,
     "metadata": {},
     "output_type": "execute_result"
    }
   ],
   "source": [
    "os.path.abspath(original_image_dir)"
   ]
  },
  {
   "cell_type": "markdown",
   "id": "d68ebb22",
   "metadata": {},
   "source": [
    "### Create new data for mitotic classification with the stain norm images"
   ]
  },
  {
   "cell_type": "code",
   "execution_count": 158,
   "id": "ae5ebf01",
   "metadata": {
    "scrolled": false
   },
   "outputs": [],
   "source": [
    "new_data_dir = '../data_mitotic_classify_macenko_stainnorm_norm'\n",
    "if not os.path.exists(new_data_dir):\n",
    "    os.mkdir(new_data_dir)\n",
    "walk_dir(original_image_dir, [], new_data_dir, 'Inorm')\n"
   ]
  },
  {
   "cell_type": "markdown",
   "id": "73b7f484",
   "metadata": {},
   "source": [
    "### Create new data for mitotic classification with the stain norm H  images"
   ]
  },
  {
   "cell_type": "code",
   "execution_count": 165,
   "id": "446f84fd",
   "metadata": {},
   "outputs": [
    {
     "name": "stdout",
     "output_type": "stream",
     "text": [
      "../data_mitotic_classify_macenko_stainnorm_H/train/4_mitotic_look_alike\n",
      "../data_mitotic_classify_macenko_stainnorm_H/train/3_anaphase\n",
      "../data_mitotic_classify_macenko_stainnorm_H/train/5_background\n",
      "../data_mitotic_classify_macenko_stainnorm_H/train/2_metaphase\n",
      "../data_mitotic_classify_macenko_stainnorm_H/train/1_prophase\n",
      "../data_mitotic_classify_macenko_stainnorm_H/val\n",
      "../data_mitotic_classify_macenko_stainnorm_H/val/4_mitotic_look_alike\n",
      "../data_mitotic_classify_macenko_stainnorm_H/val/3_anaphase\n",
      "../data_mitotic_classify_macenko_stainnorm_H/val/5_background\n",
      "../data_mitotic_classify_macenko_stainnorm_H/val/2_metaphase\n",
      "../data_mitotic_classify_macenko_stainnorm_H/val/1_prophase\n"
     ]
    }
   ],
   "source": [
    "new_data_dir = '../data_mitotic_classify_macenko_stainnorm_H'\n",
    "if not os.path.exists(new_data_dir):\n",
    "    os.mkdir(new_data_dir)\n",
    "walk_dir(original_image_dir, [], new_data_dir, 'H')"
   ]
  },
  {
   "cell_type": "code",
   "execution_count": null,
   "id": "33c119c1",
   "metadata": {},
   "outputs": [],
   "source": []
  }
 ],
 "metadata": {
  "kernelspec": {
   "display_name": "Python 3 (ipykernel)",
   "language": "python",
   "name": "python3"
  },
  "language_info": {
   "codemirror_mode": {
    "name": "ipython",
    "version": 3
   },
   "file_extension": ".py",
   "mimetype": "text/x-python",
   "name": "python",
   "nbconvert_exporter": "python",
   "pygments_lexer": "ipython3",
   "version": "3.8.13"
  }
 },
 "nbformat": 4,
 "nbformat_minor": 5
}
